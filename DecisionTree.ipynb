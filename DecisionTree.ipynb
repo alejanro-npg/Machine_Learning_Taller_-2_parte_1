{
 "cells": [
  {
   "cell_type": "markdown",
   "metadata": {},
   "source": [
    "### Árboles de decisión\n",
    "#### Machine Learning I - Maestría en Analítica Aplicada\n",
    "#### Universidad de la Sabana\n",
    "#### Prof: Hugo Franco\n",
    "#### Ejemplo: predicción de desarrollo de la diabetes (población de la India)\n",
    "\n",
    "Se usarán los métodos de gestión de cadenas del módulo __six__ y la biblioteca __pydotplus__ (interfaz con __graphviz__)"
   ]
  },
  {
   "cell_type": "code",
   "execution_count": null,
   "metadata": {},
   "outputs": [],
   "source": [
    "import pandas as pd\n",
    "import numpy as np\n",
    "\n",
    "from sklearn.tree import DecisionTreeClassifier \n",
    "from sklearn.model_selection import train_test_split \n",
    "from sklearn.model_selection import cross_val_score\n",
    "from sklearn import metrics \n",
    "\n",
    "# Para representar el árbol de decisión\n",
    "from six import StringIO  # Capa de compatibilidad entre Python 2 y Python 3\n",
    "from sklearn.tree import export_graphviz # Visualización de árboles de decisión\n",
    "from IPython.display import Image # Módulo de gestión de imágenes digitales \n",
    "import pydotplus # Envoltorio mejorado del lenguaje \"dot\" de graphviz "
   ]
  },
  {
   "cell_type": "markdown",
   "metadata": {},
   "source": [
    "##### Etiquetas de los datos a partir del conocimiento del problema\n",
    "\n",
    "El Dataset de ejemplo proviene del Instituto Nacional de Diabetes y Enfermedades Digestivas y Renales de la India. La idea es predecir si un paciente puede o no tener _diabetes mellitus_, con base en datos de tamizaje como la edad, el número de embarazos, los niveles de glucosa, insulina y presión arterial, el grosor de la piel y la \"función de pedigree\" (asociada a factores genéticos).\n",
    "https://raw.githubusercontent.com/plotly/datasets/master/diabetes.csv\n"
   ]
  },
  {
   "cell_type": "code",
   "execution_count": null,
   "metadata": {},
   "outputs": [],
   "source": [
    "# Se define el nombre de las columnas en una lista \n",
    "nombre_columnas = ['Embarazos', 'Glucosa', 'Presion Arterial', 'Grosor Piel', 'Insulina', 'Indice Masa Corporal', 'Función de Pedigree', 'Edad', 'Etiqueta']\n",
    "\n",
    "# Se usa la biblioteca Pandas para cargar el dataset desde un archivo de texto \n",
    "# \"separado por comas\" (CSV), usando los nombres de columna previamente definidos\n",
    "dataset = pd.read_csv(\"diabetes.csv\", header=1, names=nombre_columnas)"
   ]
  },
  {
   "cell_type": "code",
   "execution_count": null,
   "metadata": {},
   "outputs": [],
   "source": [
    "dataset.head(10)"
   ]
  },
  {
   "cell_type": "code",
   "execution_count": null,
   "metadata": {},
   "outputs": [],
   "source": [
    "feature_cols = ['Embarazos', 'Insulina', 'Indice Masa Corporal', 'Edad', 'Glucosa', 'Presion Arterial', 'Función de Pedigree']\n",
    "\n",
    "X = dataset[feature_cols] # Características\n",
    "y = dataset.Etiqueta # Variable objetivo"
   ]
  },
  {
   "cell_type": "markdown",
   "metadata": {},
   "source": [
    "Se divide el dataset entre los conjuntos de entrenamiento y prueba:\n"
   ]
  },
  {
   "cell_type": "code",
   "execution_count": null,
   "metadata": {},
   "outputs": [],
   "source": [
    "X_train, X_test, y_train, y_test = train_test_split(X, y, test_size=0.3, random_state=1) # 70% para entrenamiento\n",
    "print(\"Tamaño de X_train: {}\\nTamaño de y_train: {}\".format(X_train.shape, y_train.shape)) #Salida con formato en Python\n",
    "print(\"Tamaño de X_test: {}\\nTamaño de y_test: {}\".format(X_test.shape, y_test.shape))"
   ]
  },
  {
   "cell_type": "markdown",
   "metadata": {},
   "source": [
    "#### Creación y entrenamiento del modelo\n",
    "Se crea un objeto de clase _DecisionTreeClassifier_ y se usa el dataset de entrenamiento para el _aprendizaje_ del árbol de decisión. El árbol entrenado permite obtener las salidas _reales_ del modelo, que serán contrastadas con las salidas _esperadas_ según lo contenido en el dataset original."
   ]
  },
  {
   "cell_type": "code",
   "execution_count": null,
   "metadata": {},
   "outputs": [],
   "source": [
    "dtree = DecisionTreeClassifier()\n",
    "\n",
    "# Entrenamiento\n",
    "dtree = dtree.fit(X_train,y_train)\n",
    "\n",
    "#Predicción para evaluación\n",
    "y_pred = dtree.predict(X_test)"
   ]
  },
  {
   "cell_type": "markdown",
   "metadata": {},
   "source": [
    "Se concatenan las columnas de caraterísticas para prueba (_X_test_), valor esperado de registros de prueba (_y_test_) y valores entregados (predichos) por el modelo para los registros de prueba (_y_pred_). Este último requiere una conversión a series de datos de Pandas a partir del formato de salida del método _dtree.predict_."
   ]
  },
  {
   "cell_type": "code",
   "execution_count": null,
   "metadata": {},
   "outputs": [],
   "source": [
    "pd.concat([X_test, y_test, pd.Series(y_pred, name='Predicción', index=X_test.index)], \n",
    "          ignore_index=False, axis=1)"
   ]
  },
  {
   "cell_type": "markdown",
   "metadata": {},
   "source": [
    "Se imprimen los resultados de desempeño obtenidos mediante _validación cruzada_"
   ]
  },
  {
   "cell_type": "code",
   "execution_count": null,
   "metadata": {},
   "outputs": [],
   "source": [
    "cv_scores = cross_val_score(dtree, X_train, y_train, cv=5)\n",
    "\n",
    "# Escribe en pantalla los desempeños (\"accuracy\") para cada \"pliegue\" (fold)\n",
    "print (cv_scores);\n",
    "\n",
    "# Escribe en pantalla el promedio de la métrica \"accuracy\" en el entrenamiento \n",
    "print(np.average(cv_scores))\n",
    "\n",
    "# Escribe en pantalla la métrica \"accuracy\" para prueba (datos no usados en el entrenamiento)\n",
    "print(\"Exactitud (accuracy) en prueba (testing):\",metrics.accuracy_score(y_test, y_pred))"
   ]
  },
  {
   "cell_type": "markdown",
   "metadata": {},
   "source": [
    "__Ejemplo:__ acceder a un registro arbitrario del dataset y ver su clasificación"
   ]
  },
  {
   "cell_type": "code",
   "execution_count": null,
   "metadata": {},
   "outputs": [],
   "source": [
    "print(X_test.iloc[210])\n",
    "print(y_test.iloc[210])\n"
   ]
  },
  {
   "cell_type": "markdown",
   "metadata": {},
   "source": [
    "__Ejemplo:__ crear un nuevo caso (similar a una situación real) para obtener su clasificación con el modelo entrenado"
   ]
  },
  {
   "cell_type": "code",
   "execution_count": null,
   "metadata": {},
   "outputs": [],
   "source": [
    "data = {'Embarazos':[2],'Insulina':[120.000],'Indice Masa Corporal':[20],'Edad':[32.000],'Glucosa':[190],'Presion Arterial':[100],'Función de Pedigree':[0.75]}\n",
    "query=pd.DataFrame(data)\n",
    "\n",
    "nueva_clasificacion=dtree.predict(query)\n",
    "\n",
    "print(\"Clase: \",nueva_clasificacion)"
   ]
  },
  {
   "cell_type": "markdown",
   "metadata": {},
   "source": [
    "La curva ROC (Receiver-Operating Characteristic) da una idea de la calidad del clasificador: entre más se acerque a la esquina superior izquierda, mayor será el área bajo la curva."
   ]
  },
  {
   "cell_type": "code",
   "execution_count": null,
   "metadata": {},
   "outputs": [],
   "source": [
    "fpr,tpr,_r=metrics.roc_curve(y_test,y_pred)\n",
    "roc_auc = metrics.auc(fpr, tpr)\n",
    "print(roc_auc)\n",
    "metrics.plot_roc_curve(dtree, X_test, y_test)"
   ]
  },
  {
   "cell_type": "markdown",
   "metadata": {},
   "source": [
    "#### Visualización del modelo obtenido\n",
    "El siguiente segmento de código grafica el árbol de decisión obtenido"
   ]
  },
  {
   "cell_type": "code",
   "execution_count": null,
   "metadata": {},
   "outputs": [],
   "source": [
    "dot_data = StringIO()\n",
    "export_graphviz(dtree, out_file=dot_data,  \n",
    "               filled=True, rounded=True,\n",
    "               special_characters=True, feature_names = feature_cols,class_names=['0','1'])\n",
    "graph = pydotplus.graph_from_dot_data(dot_data.getvalue())  \n",
    "graph.write_png('diabetes.png')\n",
    "Image(graph.create_png())"
   ]
  }
 ],
 "metadata": {
  "kernelspec": {
   "display_name": "bigdata_sql",
   "language": "python",
   "name": "python3"
  },
  "language_info": {
   "codemirror_mode": {
    "name": "ipython",
    "version": 3
   },
   "file_extension": ".py",
   "mimetype": "text/x-python",
   "name": "python",
   "nbconvert_exporter": "python",
   "pygments_lexer": "ipython3",
   "version": "3.11.13"
  }
 },
 "nbformat": 4,
 "nbformat_minor": 4
}
