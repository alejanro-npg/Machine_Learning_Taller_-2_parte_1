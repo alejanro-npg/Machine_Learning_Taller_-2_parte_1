{
 "cells": [
  {
   "cell_type": "markdown",
   "metadata": {},
   "source": [
    "### Método KNN\n",
    "#### Machine Learning - Maestría en Analítica Aplicada\n",
    "#### Universidad de la Sabana\n",
    "#### Prof: Hugo Franco\n",
    "#### Ejemplo: Clasificación de especies mediante características fenotípicas\n",
    "\n",
    "<img src=\"iris.png\" width=\"50%\">\n",
    "\n",
    "\n"
   ]
  },
  {
   "cell_type": "code",
   "execution_count": null,
   "metadata": {},
   "outputs": [],
   "source": [
    "import numpy as np \n",
    "import pandas as pd  \n",
    "\n",
    "import matplotlib.pyplot as plt\n",
    "from sklearn.model_selection import train_test_split\n",
    "from sklearn.model_selection import cross_val_score\n",
    "from sklearn.metrics import ConfusionMatrixDisplay\n",
    "from sklearn.neighbors import KNeighborsClassifier\n",
    "\n",
    "#from sklearn.datasets import load_iris\n",
    "from sklearn import metrics "
   ]
  },
  {
   "cell_type": "markdown",
   "metadata": {},
   "source": [
    "Se usará __pandas__ para gestionar el _dataset_"
   ]
  },
  {
   "cell_type": "code",
   "execution_count": null,
   "metadata": {},
   "outputs": [],
   "source": [
    "#Lectura de los datos\n",
    "df = pd.read_csv('iris.csv')\n",
    "\n",
    "# También se puede cargar desde el paquete sklearn.datasets\n",
    "#df = load_iris()\n",
    "\n",
    "# previsualización del dataset\n",
    "df.head(5)"
   ]
  },
  {
   "cell_type": "code",
   "execution_count": null,
   "metadata": {},
   "outputs": [],
   "source": [
    "# El contenido del dataset se puede explorar con la función \"describe\"\n",
    "df.describe()[\"SepalLengthCm\"]\n",
    "#df.describe()[\"SepalWidthCm\"]\n",
    "#df.describe()[\"PetalLengthCm\"]\n",
    "#df.describe()[\"PetalWidthCm\"]"
   ]
  },
  {
   "cell_type": "markdown",
   "metadata": {},
   "source": [
    "El módulo de selección de modelos de __sklearn__ permite construir los conjuntos de datos de entrenamiento y prueba para variables independientes (características) y la variable dependiente (etiqueta de clase)"
   ]
  },
  {
   "cell_type": "code",
   "execution_count": null,
   "metadata": {},
   "outputs": [],
   "source": [
    "X_train, X_test, y_train, y_test = train_test_split(df[['SepalLengthCm', 'SepalWidthCm', \n",
    "                                                        'PetalLengthCm', 'PetalWidthCm']],\n",
    "                                                    df['Species'], random_state=0)"
   ]
  },
  {
   "cell_type": "code",
   "execution_count": null,
   "metadata": {},
   "outputs": [],
   "source": [
    "print(\"Tamaño de X_train: {}\\nTamaño de y_train: {}\".format(X_train.shape, y_train.shape))\n",
    "print(\"Tamaño de X_test: {}\\nTamaño de y_test: {}\".format(X_test.shape, y_test.shape))"
   ]
  },
  {
   "cell_type": "markdown",
   "metadata": {},
   "source": [
    "#### Creación del clasificador y entrenamiento \n",
    "Se entrena un clasificador _KNN_ usando los datos de entradas conocidas y salidas esperadas "
   ]
  },
  {
   "cell_type": "code",
   "execution_count": null,
   "metadata": {},
   "outputs": [],
   "source": [
    "knn = KNeighborsClassifier(n_neighbors=1);\n",
    "knn.fit(X_train, y_train)"
   ]
  },
  {
   "cell_type": "markdown",
   "metadata": {},
   "source": [
    "Para los datos del conjunto de prueba, se obtienen las clasificaciones entregadas por el modelo entrenado (y se imprime su desempeño en la métrica \"accuracy\")"
   ]
  },
  {
   "cell_type": "code",
   "execution_count": null,
   "metadata": {},
   "outputs": [],
   "source": [
    "y_pred = knn.predict(X_test)\n",
    "# comparación de las predicciones con las etiquetas originales\n",
    "pd.concat([X_test, y_test, pd.Series(y_pred, name='Predicción', index=X_test.index)], \n",
    "          ignore_index=False, axis=1)\n",
    "print(\"Score sobre el conjunto de test: {:.3f}\".format(knn.score(X_train, y_train)))\n",
    "\n",
    "np.set_printoptions(precision=2)\n",
    "cv_scores = cross_val_score(knn, X_test, y_test, cv=5)\n",
    "print (cv_scores);"
   ]
  },
  {
   "cell_type": "markdown",
   "metadata": {},
   "source": [
    "Desempeño promedio del entrenamiento"
   ]
  },
  {
   "cell_type": "code",
   "execution_count": null,
   "metadata": {},
   "outputs": [],
   "source": [
    "print(np.average(cv_scores))"
   ]
  },
  {
   "cell_type": "code",
   "execution_count": null,
   "metadata": {},
   "outputs": [],
   "source": [
    "# Escribe en pantalla la métrica \"accuracy\" para prueba (datos no usados en el entrenamiento)\n",
    "print(\"Exactitud (accuracy) en prueba (testing):\",metrics.accuracy_score(y_test, y_pred))"
   ]
  },
  {
   "cell_type": "markdown",
   "metadata": {},
   "source": [
    "#### Visualización del desempeño: matriz de confusión\n",
    "En problemas de clasificación multiclase, es usual reportar la matriz de confusión"
   ]
  },
  {
   "cell_type": "code",
   "execution_count": null,
   "metadata": {},
   "outputs": [],
   "source": [
    "class_names = ['Iris-setosa', 'Iris-versicolor', 'Iris-virginica']\n",
    "\n",
    "disp = ConfusionMatrixDisplay.from_estimator(\n",
    "    knn,\n",
    "    X_test,\n",
    "    y_test,\n",
    "    display_labels=class_names,\n",
    "    cmap=plt.cm.Blues,\n",
    "    normalize=None\n",
    ")\n",
    "\n",
    "# You can then display the plot\n",
    "disp.ax_.set_title(\"Confusion Matrix\")\n",
    "print(\"Confusion Matrix\")\n",
    "print(disp.confusion_matrix)\n",
    "\n",
    "plt.show()"
   ]
  }
 ],
 "metadata": {
  "kernelspec": {
   "display_name": "bigdata_sql",
   "language": "python",
   "name": "python3"
  },
  "language_info": {
   "codemirror_mode": {
    "name": "ipython",
    "version": 3
   },
   "file_extension": ".py",
   "mimetype": "text/x-python",
   "name": "python",
   "nbconvert_exporter": "python",
   "pygments_lexer": "ipython3",
   "version": "3.11.13"
  }
 },
 "nbformat": 4,
 "nbformat_minor": 4
}
